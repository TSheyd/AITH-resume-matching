{
 "cells": [
  {
   "cell_type": "markdown",
   "source": [
    "Так как это демка, мы решили сделать фиксированный датасет вакансий для подбора. \n",
    "\n",
    "Тогда для ускорения работы приложения можно заранее обработать датасет вакансий и получить эмбеддинги содержаний, чтобы потом сравнивать их с резюме."
   ],
   "metadata": {
    "collapsed": false
   },
   "id": "d4256d1f0f889bce"
  },
  {
   "cell_type": "code",
   "execution_count": null,
   "id": "initial_id",
   "metadata": {
    "collapsed": true
   },
   "outputs": [],
   "source": [
    "from gensim.models.doc2vec import Doc2Vec\n",
    "import pandas as pd\n",
    "import numpy as np\n",
    "import re\n",
    "\n",
    "import faiss\n",
    "import PyPDF2\n",
    "\n",
    "from io import StringIO\n",
    "from html.parser import HTMLParser"
   ]
  },
  {
   "cell_type": "code",
   "execution_count": null,
   "outputs": [],
   "source": [
    "# HTML stripping (https://stackoverflow.com/questions/753052/strip-html-from-strings-in-python)\n",
    "class MLStripper(HTMLParser):\n",
    "    def __init__(self):\n",
    "        super().__init__()\n",
    "        self.reset()\n",
    "        self.strict = False\n",
    "        self.convert_charrefs= True\n",
    "        self.text = StringIO()\n",
    "    def handle_data(self, d):\n",
    "        self.text.write(d)\n",
    "    def get_data(self):\n",
    "        return self.text.getvalue()\n",
    "\n",
    "def strip_tags(html):\n",
    "    s = MLStripper()\n",
    "    s.feed(html)\n",
    "    return s.get_data()"
   ],
   "metadata": {
    "collapsed": false
   },
   "id": "64b3263efa762566"
  },
  {
   "cell_type": "markdown",
   "source": [
    "load dataset"
   ],
   "metadata": {
    "collapsed": false
   },
   "id": "44d8e23bd5ee6046"
  },
  {
   "cell_type": "code",
   "execution_count": null,
   "outputs": [],
   "source": [
    "jobs = pd.read_csv('data/hhparser_vacancy.csv')\n",
    "jobs.head()"
   ],
   "metadata": {
    "collapsed": false
   },
   "id": "f5ee384afbd62f8b"
  },
  {
   "cell_type": "markdown",
   "source": [
    "process data"
   ],
   "metadata": {
    "collapsed": false
   },
   "id": "ee542c906df4049e"
  },
  {
   "cell_type": "code",
   "execution_count": null,
   "outputs": [],
   "source": [
    "jobs['content'] = jobs['name'] + ' ' + jobs['description']\n",
    "jobs['content'] = jobs['content'].astype(str)\n",
    "jobs['content'] = jobs['content'].map(lambda x: strip_tags(x.lower()))  # Remove HTML, lower case\n",
    "jobs.head()"
   ],
   "metadata": {
    "collapsed": false
   },
   "id": "422a298c456188a6"
  },
  {
   "cell_type": "markdown",
   "source": [
    "get vectors"
   ],
   "metadata": {
    "collapsed": false
   },
   "id": "45632e690d53778c"
  },
  {
   "cell_type": "code",
   "execution_count": null,
   "outputs": [],
   "source": [
    "model = Doc2Vec.load('model/doc2vec_max.model')"
   ],
   "metadata": {
    "collapsed": false
   },
   "id": "aece75e53b29e82a"
  },
  {
   "cell_type": "code",
   "execution_count": null,
   "outputs": [],
   "source": [
    "jobs['embd'] = jobs['content'].apply(lambda x: model.infer_vector(x.split()))\n",
    "jobs.head()"
   ],
   "metadata": {
    "collapsed": false
   },
   "id": "96f22e3990d8446a"
  },
  {
   "cell_type": "markdown",
   "source": [
    "write vectors to FAISS index and store them. id's should match the jobs csv"
   ],
   "metadata": {
    "collapsed": false
   },
   "id": "91e42267fadf7de7"
  },
  {
   "cell_type": "code",
   "execution_count": null,
   "outputs": [],
   "source": [
    "index = faiss.IndexFlatL2(50)  # size from model params in train_d2v\n",
    "print(index.is_trained)\n",
    "index.add(np.array(jobs.embd.values.tolist()))\n",
    "print(index.ntotal)"
   ],
   "metadata": {
    "collapsed": false
   },
   "id": "a5b6974a758602ea"
  },
  {
   "cell_type": "code",
   "execution_count": null,
   "outputs": [],
   "source": [
    "faiss.write_index(index, \"model/hh.index\")"
   ],
   "metadata": {
    "collapsed": false
   },
   "id": "af3cfe5b21521db4"
  },
  {
   "cell_type": "markdown",
   "source": [
    "# Testing"
   ],
   "metadata": {
    "collapsed": false
   },
   "id": "4027f0453a9875d8"
  },
  {
   "cell_type": "code",
   "execution_count": null,
   "outputs": [],
   "source": [
    "# Fixed dataset of open positions\n",
    "jobs = pd.read_csv('data/hhparser_vacancy.csv')\n",
    "\n",
    "# Embeddings\n",
    "index = faiss.read_index(\"model/hh.index\")"
   ],
   "metadata": {
    "collapsed": false
   },
   "id": "6d525b05f3c64417"
  },
  {
   "cell_type": "code",
   "execution_count": null,
   "outputs": [],
   "source": [
    "resume = []\n",
    "\n",
    "with open('data/sample_resume.pdf', 'rb') as f:\n",
    "    pdf = PyPDF2.PdfReader(f)\n",
    "    for page in pdf.pages:\n",
    "        text = page.extract_text()\n",
    "        resume.append(text)\n",
    "\n",
    "# resume = ' '.join([e.replace(' ', '').replace('\\n', ' ').lower() for e in resume])\n",
    "resume = ' '.join([e.replace('\\n', ' ').lower() for e in resume])\n",
    "resume = re.sub(r'[^\\w\\s]','',resume).replace('\\n', ' ')\n",
    "\n",
    "resume"
   ],
   "metadata": {
    "collapsed": false
   },
   "id": "6152c812e4b3a062"
  },
  {
   "cell_type": "code",
   "execution_count": null,
   "outputs": [],
   "source": [
    "# get doc vector\n",
    "v1 = np.array([model.infer_vector(resume.split())])"
   ],
   "metadata": {
    "collapsed": false
   },
   "id": "d051f3fa45f03f62"
  },
  {
   "cell_type": "code",
   "execution_count": null,
   "outputs": [],
   "source": [
    "# find the closest embedding in index\n",
    "distances, indices = index.search(v1, 5)\n",
    "distances, indices"
   ],
   "metadata": {
    "collapsed": false
   },
   "id": "c61ab6ee8529652"
  },
  {
   "cell_type": "code",
   "execution_count": null,
   "outputs": [],
   "source": [
    "jobs.loc[indices[0][0]]"
   ],
   "metadata": {
    "collapsed": false
   },
   "id": "e2b956f7acd78434"
  }
 ],
 "metadata": {
  "kernelspec": {
   "display_name": "Python 3",
   "language": "python",
   "name": "python3"
  },
  "language_info": {
   "codemirror_mode": {
    "name": "ipython",
    "version": 2
   },
   "file_extension": ".py",
   "mimetype": "text/x-python",
   "name": "python",
   "nbconvert_exporter": "python",
   "pygments_lexer": "ipython2",
   "version": "2.7.6"
  }
 },
 "nbformat": 4,
 "nbformat_minor": 5
}
